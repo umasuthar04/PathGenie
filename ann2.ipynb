{
 "cells": [
  {
   "cell_type": "code",
   "execution_count": 1,
   "id": "54bb5142",
   "metadata": {},
   "outputs": [],
   "source": [
    "import pandas as pd\n",
    "import numpy as np\n",
    "from sklearn.feature_extraction.text import TfidfVectorizer\n",
    "from sklearn.preprocessing import MinMaxScaler\n",
    "from sklearn.model_selection import train_test_split\n",
    "from tensorflow.keras.models import Sequential\n",
    "from tensorflow.keras.layers import Dense, Dropout"
   ]
  },
  {
   "cell_type": "code",
   "execution_count": 2,
   "id": "d0294156",
   "metadata": {},
   "outputs": [],
   "source": [
    "# Load job skill dataset\n",
    "df = pd.read_csv(\"job_skills_dataset_corrected.csv\")\n",
    "\n",
    "# Prepare synthetic training data (you can replace with real labels)\n",
    "X_raw = df[\"Skills Required\"].str.lower().str.replace(r\"[^\\w\\s,]\", \"\", regex=True)\n",
    "job_roles = df[\"Job Title\"].str.lower().unique()"
   ]
  },
  {
   "cell_type": "code",
   "execution_count": null,
   "id": "282e29a4",
   "metadata": {},
   "outputs": [],
   "source": [
    "# Generate pairs (resume skills, jd skills, required skills)\n",
    "samples = []\n",
    "labels = []\n",
    "\n",
    "# Replace the lambda with a named function\n",
    "from utils import comma_tokenizer\n",
    "vectorizer = TfidfVectorizer(tokenizer=comma_tokenizer)\n",
    "X_tfidf = vectorizer.fit_transform(X_raw)"
   ]
  },
  {
   "cell_type": "code",
   "execution_count": 11,
   "id": "2884a241",
   "metadata": {},
   "outputs": [],
   "source": [
    "# Create synthetic training data\n",
    "for i in range(2000):\n",
    "    i1 = np.random.randint(0, len(X_tfidf.toarray()))\n",
    "    i2 = np.random.randint(0, len(X_tfidf.toarray()))\n",
    "    resume_vec = X_tfidf[i1].toarray()[0]\n",
    "    jd_vec = X_tfidf[i2].toarray()[0]\n",
    "    role_vec = X_tfidf[i2].toarray()[0]  # assume JD and role are from same record\n",
    "    exp = np.random.randint(0, 11)  # 0–10 years\n",
    "\n",
    "    combined = np.concatenate([resume_vec, jd_vec, role_vec, [exp / 10]])\n",
    "    match_score = np.dot(resume_vec, role_vec) / (np.linalg.norm(resume_vec) * np.linalg.norm(role_vec) + 1e-6)\n",
    "    match_score = min(1.0, max(0.0, match_score + exp * 0.02))  # boost for experience\n",
    "\n",
    "    samples.append(combined)\n",
    "    labels.append(match_score)"
   ]
  },
  {
   "cell_type": "code",
   "execution_count": 12,
   "id": "07dfe0f7",
   "metadata": {},
   "outputs": [],
   "source": [
    "X_train, X_test, y_train, y_test = train_test_split(samples, labels, test_size=0.2, random_state=42)\n"
   ]
  },
  {
   "cell_type": "code",
   "execution_count": 13,
   "id": "323d0fb4",
   "metadata": {},
   "outputs": [],
   "source": [
    "# Build model\n",
    "model = Sequential([\n",
    "    Dense(256, activation='relu', input_shape=(len(samples[0]),)),\n",
    "    Dropout(0.3),\n",
    "    Dense(128, activation='relu'),\n",
    "    Dense(1, activation='sigmoid')  # score between 0–1\n",
    "])"
   ]
  },
  {
   "cell_type": "code",
   "execution_count": 14,
   "id": "eda2dfd7",
   "metadata": {},
   "outputs": [
    {
     "name": "stdout",
     "output_type": "stream",
     "text": [
      "Epoch 1/15\n",
      "\u001b[1m45/45\u001b[0m \u001b[32m━━━━━━━━━━━━━━━━━━━━\u001b[0m\u001b[37m\u001b[0m \u001b[1m2s\u001b[0m 12ms/step - loss: 0.0723 - mae: 0.2194 - val_loss: 0.0258 - val_mae: 0.1046\n",
      "Epoch 2/15\n",
      "\u001b[1m45/45\u001b[0m \u001b[32m━━━━━━━━━━━━━━━━━━━━\u001b[0m\u001b[37m\u001b[0m \u001b[1m0s\u001b[0m 7ms/step - loss: 0.0253 - mae: 0.1029 - val_loss: 0.0235 - val_mae: 0.0926\n",
      "Epoch 3/15\n",
      "\u001b[1m45/45\u001b[0m \u001b[32m━━━━━━━━━━━━━━━━━━━━\u001b[0m\u001b[37m\u001b[0m \u001b[1m0s\u001b[0m 6ms/step - loss: 0.0182 - mae: 0.0837 - val_loss: 0.0203 - val_mae: 0.0912\n",
      "Epoch 4/15\n",
      "\u001b[1m45/45\u001b[0m \u001b[32m━━━━━━━━━━━━━━━━━━━━\u001b[0m\u001b[37m\u001b[0m \u001b[1m0s\u001b[0m 6ms/step - loss: 0.0148 - mae: 0.0722 - val_loss: 0.0181 - val_mae: 0.0807\n",
      "Epoch 5/15\n",
      "\u001b[1m45/45\u001b[0m \u001b[32m━━━━━━━━━━━━━━━━━━━━\u001b[0m\u001b[37m\u001b[0m \u001b[1m0s\u001b[0m 6ms/step - loss: 0.0107 - mae: 0.0594 - val_loss: 0.0158 - val_mae: 0.0762\n",
      "Epoch 6/15\n",
      "\u001b[1m45/45\u001b[0m \u001b[32m━━━━━━━━━━━━━━━━━━━━\u001b[0m\u001b[37m\u001b[0m \u001b[1m0s\u001b[0m 6ms/step - loss: 0.0070 - mae: 0.0514 - val_loss: 0.0131 - val_mae: 0.0723\n",
      "Epoch 7/15\n",
      "\u001b[1m45/45\u001b[0m \u001b[32m━━━━━━━━━━━━━━━━━━━━\u001b[0m\u001b[37m\u001b[0m \u001b[1m0s\u001b[0m 6ms/step - loss: 0.0065 - mae: 0.0483 - val_loss: 0.0128 - val_mae: 0.0702\n",
      "Epoch 8/15\n",
      "\u001b[1m45/45\u001b[0m \u001b[32m━━━━━━━━━━━━━━━━━━━━\u001b[0m\u001b[37m\u001b[0m \u001b[1m0s\u001b[0m 6ms/step - loss: 0.0049 - mae: 0.0434 - val_loss: 0.0101 - val_mae: 0.0635\n",
      "Epoch 9/15\n",
      "\u001b[1m45/45\u001b[0m \u001b[32m━━━━━━━━━━━━━━━━━━━━\u001b[0m\u001b[37m\u001b[0m \u001b[1m0s\u001b[0m 5ms/step - loss: 0.0037 - mae: 0.0402 - val_loss: 0.0104 - val_mae: 0.0630\n",
      "Epoch 10/15\n",
      "\u001b[1m45/45\u001b[0m \u001b[32m━━━━━━━━━━━━━━━━━━━━\u001b[0m\u001b[37m\u001b[0m \u001b[1m0s\u001b[0m 5ms/step - loss: 0.0026 - mae: 0.0356 - val_loss: 0.0097 - val_mae: 0.0596\n",
      "Epoch 11/15\n",
      "\u001b[1m45/45\u001b[0m \u001b[32m━━━━━━━━━━━━━━━━━━━━\u001b[0m\u001b[37m\u001b[0m \u001b[1m0s\u001b[0m 6ms/step - loss: 0.0033 - mae: 0.0386 - val_loss: 0.0105 - val_mae: 0.0620\n",
      "Epoch 12/15\n",
      "\u001b[1m45/45\u001b[0m \u001b[32m━━━━━━━━━━━━━━━━━━━━\u001b[0m\u001b[37m\u001b[0m \u001b[1m0s\u001b[0m 5ms/step - loss: 0.0023 - mae: 0.0346 - val_loss: 0.0103 - val_mae: 0.0599\n",
      "Epoch 13/15\n",
      "\u001b[1m45/45\u001b[0m \u001b[32m━━━━━━━━━━━━━━━━━━━━\u001b[0m\u001b[37m\u001b[0m \u001b[1m0s\u001b[0m 6ms/step - loss: 0.0022 - mae: 0.0337 - val_loss: 0.0100 - val_mae: 0.0569\n",
      "Epoch 14/15\n",
      "\u001b[1m45/45\u001b[0m \u001b[32m━━━━━━━━━━━━━━━━━━━━\u001b[0m\u001b[37m\u001b[0m \u001b[1m0s\u001b[0m 6ms/step - loss: 0.0018 - mae: 0.0315 - val_loss: 0.0093 - val_mae: 0.0568\n",
      "Epoch 15/15\n",
      "\u001b[1m45/45\u001b[0m \u001b[32m━━━━━━━━━━━━━━━━━━━━\u001b[0m\u001b[37m\u001b[0m \u001b[1m0s\u001b[0m 6ms/step - loss: 0.0018 - mae: 0.0303 - val_loss: 0.0105 - val_mae: 0.0582\n"
     ]
    },
    {
     "data": {
      "text/plain": [
       "<keras.src.callbacks.history.History at 0x27fa3b9ac60>"
      ]
     },
     "execution_count": 14,
     "metadata": {},
     "output_type": "execute_result"
    }
   ],
   "source": [
    "model.compile(optimizer='adam', loss='mse', metrics=['mae'])\n",
    "model.fit(np.array(X_train), np.array(y_train), epochs=15, batch_size=32, validation_split=0.1)"
   ]
  },
  {
   "cell_type": "code",
   "execution_count": 15,
   "id": "0b6fef9c",
   "metadata": {},
   "outputs": [
    {
     "name": "stderr",
     "output_type": "stream",
     "text": [
      "WARNING:absl:You are saving your model as an HDF5 file via `model.save()` or `keras.saving.save_model(model)`. This file format is considered legacy. We recommend using instead the native Keras format, e.g. `model.save('my_model.keras')` or `keras.saving.save_model(model, 'my_model.keras')`. \n"
     ]
    }
   ],
   "source": [
    "model.save(\"match_score_model.h5\")"
   ]
  },
  {
   "cell_type": "code",
   "execution_count": 16,
   "id": "42077882",
   "metadata": {},
   "outputs": [
    {
     "data": {
      "text/plain": [
       "['match_vectorizer.pkl']"
      ]
     },
     "execution_count": 16,
     "metadata": {},
     "output_type": "execute_result"
    }
   ],
   "source": [
    "# Save vectorizer\n",
    "import joblib\n",
    "joblib.dump(vectorizer, \"match_vectorizer.pkl\")"
   ]
  },
  {
   "cell_type": "code",
   "execution_count": null,
   "id": "ecd0c09c",
   "metadata": {},
   "outputs": [],
   "source": []
  }
 ],
 "metadata": {
  "kernelspec": {
   "display_name": "Python 3",
   "language": "python",
   "name": "python3"
  },
  "language_info": {
   "codemirror_mode": {
    "name": "ipython",
    "version": 3
   },
   "file_extension": ".py",
   "mimetype": "text/x-python",
   "name": "python",
   "nbconvert_exporter": "python",
   "pygments_lexer": "ipython3",
   "version": "3.12.3"
  }
 },
 "nbformat": 4,
 "nbformat_minor": 5
}
